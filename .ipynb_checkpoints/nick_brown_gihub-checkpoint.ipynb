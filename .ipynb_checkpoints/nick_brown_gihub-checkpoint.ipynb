{
 "cells": [
  {
   "cell_type": "code",
   "execution_count": 1,
   "metadata": {
    "collapsed": true
   },
   "outputs": [],
   "source": [
    "#imports\n",
    "import bs4 as bs\n",
    "import pandas as pd\n",
    "import urllib\n",
    "import urllib.request\n",
    "from urllib.parse import urlparse\n",
    "import tldextract\n",
    "from collections import OrderedDict"
   ]
  },
  {
   "cell_type": "code",
   "execution_count": 2,
   "metadata": {
    "collapsed": true
   },
   "outputs": [],
   "source": [
    "#scrapping url\n",
    "scrapping_url = \"https://github.com/nikbearbrown/Deep_Learning\"\n",
    "scrapping_page = urllib.request.urlopen(scrapping_url)\n",
    "\n",
    "soup = bs.BeautifulSoup(scrapping_page,'html.parser')"
   ]
  },
  {
   "cell_type": "code",
   "execution_count": null,
   "metadata": {
    "collapsed": true
   },
   "outputs": [],
   "source": []
  },
  {
   "cell_type": "code",
   "execution_count": 3,
   "metadata": {
    "collapsed": true
   },
   "outputs": [],
   "source": [
    "import datetime\n",
    "now = datetime.datetime.now()\n",
    "#print(soup.title.text,now)"
   ]
  },
  {
   "cell_type": "code",
   "execution_count": null,
   "metadata": {
    "collapsed": true
   },
   "outputs": [],
   "source": [
    "#our variables\n",
    "anchor_index = 1\n",
    "external_links = []\n",
    "coulumn_labels = ['Link description', 'URL', 'is valid?', 'TimeStamp']\n",
    "get_desc = lambda s: None if s==None else s.strip()\n",
    "#domain name of our scrapping url\n",
    "master_domain = tldextract.extract(scrapping_url).domain"
   ]
  },
  {
   "cell_type": "code",
   "execution_count": null,
   "metadata": {
    "scrolled": true
   },
   "outputs": [
    {
     "name": "stdout",
     "output_type": "stream",
     "text": [
      "http://research.microsoft.com/pubs/209355/DeepLearning-NowPublishing-Vol7-SIG-039.pdf\n",
      "HTTP Error 403: Forbidden\n",
      "http://vision.stanford.edu/teaching/cs231n/syllabus_winter2015.html\n",
      "HTTP Error 404: Not Found\n",
      "http://www.bayareadlschool.org/\n",
      "<urlopen error [Errno -2] Name or service not known>\n",
      "http://web.stanford.edu/class/cs224n/handouts/\n",
      "HTTP Error 404: Not Found\n",
      "http://www.nature.com/nature/journal/v529/n7587/pdf/nature16961.pdf\n",
      "HTTP Error 401: Unauthorized\n",
      "http://www.ai.sri.com/\n",
      "<urlopen error [Errno 11] Resource temporarily unavailable>\n",
      "http://www.isi.edu/AI/isd.htm\n",
      "HTTP Error 403: Forbidden\n",
      "https://medium.com/@ageitgey/\n",
      "HTTP Error 403: Forbidden\n"
     ]
    }
   ],
   "source": [
    "#find all anchor 'a' tags\n",
    "for anchor in soup.find_all('a'):\n",
    "    href_link = anchor['href']\n",
    "    #extract url details using tldextract\n",
    "    url_domain = tldextract.extract(href_link).domain\n",
    "    \n",
    "    # if the url domain is same or blank, it means the link is internal(belongs to same domain)\n",
    "    if(url_domain != master_domain and url_domain != \"\"):\n",
    "\n",
    "        is_url_valid = True\n",
    "        try:\n",
    "            urllib.request.urlopen(href_link)\n",
    "        except Exception as e:\n",
    "            is_url_valid = False\n",
    "            print(href_link)\n",
    "            print(e)\n",
    "external_links.append((get_desc(anchor.string),href_link,is_url_valid,now))\n",
    "        \n"
   ]
  },
  {
   "cell_type": "code",
   "execution_count": null,
   "metadata": {},
   "outputs": [],
   "source": [
    "df = pd.DataFrame.from_records(external_links, columns=coulumn_labels)\n",
    "writer = pd.ExcelWriter('Deep_Learning_Failed_links.xlsx', engine='xlsxwriter')\n",
    "\n",
    "\n",
    "df.to_excel(writer, sheet_name='Sheet1')\n",
    "\n",
    "# Close the Pandas Excel writer and output the Excel file.\n",
    "writer.save()\n",
    "df"
   ]
  },
  {
   "cell_type": "code",
   "execution_count": null,
   "metadata": {
    "collapsed": true
   },
   "outputs": [],
   "source": []
  }
 ],
 "metadata": {
  "kernelspec": {
   "display_name": "Python 3",
   "language": "python",
   "name": "python3"
  },
  "language_info": {
   "codemirror_mode": {
    "name": "ipython",
    "version": 3
   },
   "file_extension": ".py",
   "mimetype": "text/x-python",
   "name": "python",
   "nbconvert_exporter": "python",
   "pygments_lexer": "ipython3",
   "version": "3.6.1"
  }
 },
 "nbformat": 4,
 "nbformat_minor": 2
}
